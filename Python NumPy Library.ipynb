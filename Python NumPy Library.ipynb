{
 "cells": [
  {
   "cell_type": "markdown",
   "id": "d63916ec-aee9-4dcf-a83b-b9a115753a1d",
   "metadata": {},
   "source": [
    "# What is NumPy?\n",
    "- It is multi-dimensional array libray."
   ]
  },
  {
   "cell_type": "markdown",
   "id": "62e1c710-2c11-452c-b1f6-b857230ca739",
   "metadata": {},
   "source": [
    "# How are lists different from NumPy?\n",
    "- Lists are slow\n",
    "- NumPy is very fast"
   ]
  },
  {
   "cell_type": "markdown",
   "id": "e4cd4a44-55b5-4f98-bd15-7c7b3bc9f68c",
   "metadata": {},
   "source": [
    "# Why NumPy is faster\n",
    "- Faster to read less bytes of memory .\n",
    "- No type checking when iterating through objects.\n",
    "- It has fixed type\n",
    "- It uses contiguous memory"
   ]
  },
  {
   "cell_type": "markdown",
   "id": "be2e5588-3572-46c4-ac84-554674ec126b",
   "metadata": {},
   "source": [
    "# Applications of NumPy Library\n",
    "1. Matlab Replacement\n",
    "2. Plotting\n",
    "3. Machine Learning"
   ]
  },
  {
   "cell_type": "code",
   "execution_count": 1,
   "id": "2086710b-1321-41c7-b5be-aabee30127c2",
   "metadata": {},
   "outputs": [],
   "source": [
    "import numpy as np"
   ]
  },
  {
   "cell_type": "code",
   "execution_count": 3,
   "id": "9c7edaa1-e645-4adb-8f31-70ee40aa62e6",
   "metadata": {},
   "outputs": [
    {
     "name": "stdout",
     "output_type": "stream",
     "text": [
      "[1 2 3]\n"
     ]
    }
   ],
   "source": [
    "a = np.array([1,2,3])\n",
    "print(a)"
   ]
  },
  {
   "cell_type": "code",
   "execution_count": 4,
   "id": "e794ea7d-be4a-43d9-997b-b3cda91fae3f",
   "metadata": {},
   "outputs": [
    {
     "name": "stdout",
     "output_type": "stream",
     "text": [
      "[[9. 8. 7.]\n",
      " [6. 5. 4.]]\n"
     ]
    }
   ],
   "source": [
    "b = np.array([[9.0,8.0,7.0],[6.0,5.0,4.0]])\n",
    "print(b)"
   ]
  },
  {
   "cell_type": "code",
   "execution_count": 6,
   "id": "002f68d7-0010-4079-b88d-7a692fe090d9",
   "metadata": {},
   "outputs": [
    {
     "data": {
      "text/plain": [
       "1"
      ]
     },
     "execution_count": 6,
     "metadata": {},
     "output_type": "execute_result"
    }
   ],
   "source": [
    "# Get Dimensions of your array\n",
    "a.ndim"
   ]
  },
  {
   "cell_type": "code",
   "execution_count": 7,
   "id": "504e4c84-6bf6-409c-b7de-3b867fa0facf",
   "metadata": {},
   "outputs": [
    {
     "data": {
      "text/plain": [
       "2"
      ]
     },
     "execution_count": 7,
     "metadata": {},
     "output_type": "execute_result"
    }
   ],
   "source": [
    "b.ndim"
   ]
  },
  {
   "cell_type": "code",
   "execution_count": 8,
   "id": "9d0f9c4e-3b11-46a1-b9dd-80c4cf6c026b",
   "metadata": {},
   "outputs": [
    {
     "data": {
      "text/plain": [
       "(3,)"
      ]
     },
     "execution_count": 8,
     "metadata": {},
     "output_type": "execute_result"
    }
   ],
   "source": [
    "# Get Shape\n",
    "a.shape"
   ]
  },
  {
   "cell_type": "code",
   "execution_count": 10,
   "id": "8fa09f15-c2c6-4cb3-b774-f18b2e5ab801",
   "metadata": {},
   "outputs": [
    {
     "data": {
      "text/plain": [
       "(2, 3)"
      ]
     },
     "execution_count": 10,
     "metadata": {},
     "output_type": "execute_result"
    }
   ],
   "source": [
    "b.shape # because it has two rows and three columns"
   ]
  },
  {
   "cell_type": "code",
   "execution_count": 11,
   "id": "2c6cba66-3a0e-4b65-af6f-3675e515c473",
   "metadata": {},
   "outputs": [
    {
     "data": {
      "text/plain": [
       "dtype('int64')"
      ]
     },
     "execution_count": 11,
     "metadata": {},
     "output_type": "execute_result"
    }
   ],
   "source": [
    "# Get Type\n",
    "a.dtype"
   ]
  },
  {
   "cell_type": "code",
   "execution_count": 12,
   "id": "dd107fea-dfe6-47ee-b865-bea6a7f1f7f8",
   "metadata": {},
   "outputs": [
    {
     "data": {
      "text/plain": [
       "dtype('float64')"
      ]
     },
     "execution_count": 12,
     "metadata": {},
     "output_type": "execute_result"
    }
   ],
   "source": [
    "b.dtype"
   ]
  },
  {
   "cell_type": "code",
   "execution_count": 14,
   "id": "4302a457-3cdc-45af-af3e-7b33aeb51b49",
   "metadata": {},
   "outputs": [
    {
     "data": {
      "text/plain": [
       "8"
      ]
     },
     "execution_count": 14,
     "metadata": {},
     "output_type": "execute_result"
    }
   ],
   "source": [
    "# Get Size\n",
    "a.itemsize"
   ]
  },
  {
   "cell_type": "code",
   "execution_count": 15,
   "id": "549aa6b9-47ef-4741-b3bc-936e435f8290",
   "metadata": {},
   "outputs": [
    {
     "data": {
      "text/plain": [
       "8"
      ]
     },
     "execution_count": 15,
     "metadata": {},
     "output_type": "execute_result"
    }
   ],
   "source": [
    "b.itemsize"
   ]
  },
  {
   "cell_type": "code",
   "execution_count": 16,
   "id": "ca924633-410a-4a60-8baf-f387c8fd51ea",
   "metadata": {},
   "outputs": [
    {
     "data": {
      "text/plain": [
       "24"
      ]
     },
     "execution_count": 16,
     "metadata": {},
     "output_type": "execute_result"
    }
   ],
   "source": [
    "# Get total size\n",
    "a.nbytes"
   ]
  },
  {
   "cell_type": "code",
   "execution_count": 17,
   "id": "afdb5230-ef2d-424b-bc31-ab8b9120b333",
   "metadata": {},
   "outputs": [
    {
     "data": {
      "text/plain": [
       "3"
      ]
     },
     "execution_count": 17,
     "metadata": {},
     "output_type": "execute_result"
    }
   ],
   "source": [
    "# Get number of elements\n",
    "a.size"
   ]
  },
  {
   "cell_type": "code",
   "execution_count": null,
   "id": "b0f45f46-271d-47f6-bad0-a25c9c46380f",
   "metadata": {},
   "outputs": [],
   "source": []
  }
 ],
 "metadata": {
  "kernelspec": {
   "display_name": "Python 3 (ipykernel)",
   "language": "python",
   "name": "python3"
  },
  "language_info": {
   "codemirror_mode": {
    "name": "ipython",
    "version": 3
   },
   "file_extension": ".py",
   "mimetype": "text/x-python",
   "name": "python",
   "nbconvert_exporter": "python",
   "pygments_lexer": "ipython3",
   "version": "3.12.5"
  }
 },
 "nbformat": 4,
 "nbformat_minor": 5
}
