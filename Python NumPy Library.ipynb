{
 "cells": [
  {
   "cell_type": "markdown",
   "id": "d63916ec-aee9-4dcf-a83b-b9a115753a1d",
   "metadata": {},
   "source": [
    "# What is NumPy?\n",
    "- It is multi-dimensional array libray.\n",
    "- NumPy is a Python library.\n",
    "- NumPy is used for working with arrays.\n",
    "- NumPy is short for \"Numerical Python\".\n",
    "- NumPy is a Python library used for working with arrays.\n",
    "- It also has functions for working in domain of linear algebra, fourier transform, and matrices.\n",
    "- NumPy was created in 2005 by Travis Oliphant. It is an open source project and you can use it freely."
   ]
  },
  {
   "cell_type": "markdown",
   "id": "a1ae2237-6053-4b03-92a4-534ee825e6c8",
   "metadata": {},
   "source": [
    "# Why use NumPy?\n",
    "- In Python we have lists that serve the purpose of arrays, but they are slow to process.\n",
    "- NumPy aims to provide an array object that is up to 50x faster than traditional Python lists.\n",
    "- The array object in NumPy is called ndarray, it provides a lot of supporting functions that make working with ndarray very easy.\n",
    "- Arrays are very frequently used in data science, where speed and resources are very important."
   ]
  },
  {
   "cell_type": "markdown",
   "id": "62e1c710-2c11-452c-b1f6-b857230ca739",
   "metadata": {},
   "source": [
    "# How are lists different from NumPy?\n",
    "- Lists are slow\n",
    "- NumPy is very fast"
   ]
  },
  {
   "cell_type": "markdown",
   "id": "e4cd4a44-55b5-4f98-bd15-7c7b3bc9f68c",
   "metadata": {},
   "source": [
    "# Why NumPy is faster\n",
    "- Faster to read less bytes of memory .\n",
    "- No type checking when iterating through objects.\n",
    "- It has fixed type\n",
    "- It uses contiguous memory\n",
    "- NumPy arrays are stored at one continuous place in memory unlike lists, so processes can access and manipulate them very efficiently.\n",
    "- This behavior is called locality of reference in computer science.\n",
    "- This is the main reason why NumPy is faster than lists. Also it is optimized to work with latest CPU architectures.\n",
    "- NumPy is a Python library and is written partially in Python, but most of the parts that require fast computation are written in C or C++."
   ]
  },
  {
   "cell_type": "markdown",
   "id": "be2e5588-3572-46c4-ac84-554674ec126b",
   "metadata": {},
   "source": [
    "# Applications of NumPy Library\n",
    "1. Matlab Replacement\n",
    "2. Plotting\n",
    "3. Machine Learning"
   ]
  },
  {
   "cell_type": "code",
   "execution_count": 2,
   "id": "2086710b-1321-41c7-b5be-aabee30127c2",
   "metadata": {},
   "outputs": [],
   "source": [
    "import numpy as np"
   ]
  },
  {
   "cell_type": "code",
   "execution_count": 3,
   "id": "9c7edaa1-e645-4adb-8f31-70ee40aa62e6",
   "metadata": {},
   "outputs": [
    {
     "name": "stdout",
     "output_type": "stream",
     "text": [
      "[1 2 3]\n"
     ]
    }
   ],
   "source": [
    "a = np.array([1,2,3])\n",
    "print(a)"
   ]
  },
  {
   "cell_type": "code",
   "execution_count": 4,
   "id": "e794ea7d-be4a-43d9-997b-b3cda91fae3f",
   "metadata": {},
   "outputs": [
    {
     "name": "stdout",
     "output_type": "stream",
     "text": [
      "[[9. 8. 7.]\n",
      " [6. 5. 4.]]\n"
     ]
    }
   ],
   "source": [
    "b = np.array([[9.0,8.0,7.0],[6.0,5.0,4.0]])\n",
    "print(b)"
   ]
  },
  {
   "cell_type": "code",
   "execution_count": 6,
   "id": "002f68d7-0010-4079-b88d-7a692fe090d9",
   "metadata": {},
   "outputs": [
    {
     "data": {
      "text/plain": [
       "1"
      ]
     },
     "execution_count": 6,
     "metadata": {},
     "output_type": "execute_result"
    }
   ],
   "source": [
    "# Get Dimensions of your array\n",
    "a.ndim"
   ]
  },
  {
   "cell_type": "code",
   "execution_count": 7,
   "id": "504e4c84-6bf6-409c-b7de-3b867fa0facf",
   "metadata": {},
   "outputs": [
    {
     "data": {
      "text/plain": [
       "2"
      ]
     },
     "execution_count": 7,
     "metadata": {},
     "output_type": "execute_result"
    }
   ],
   "source": [
    "b.ndim"
   ]
  },
  {
   "cell_type": "code",
   "execution_count": 8,
   "id": "9d0f9c4e-3b11-46a1-b9dd-80c4cf6c026b",
   "metadata": {},
   "outputs": [
    {
     "data": {
      "text/plain": [
       "(3,)"
      ]
     },
     "execution_count": 8,
     "metadata": {},
     "output_type": "execute_result"
    }
   ],
   "source": [
    "# Get Shape\n",
    "a.shape"
   ]
  },
  {
   "cell_type": "code",
   "execution_count": 10,
   "id": "8fa09f15-c2c6-4cb3-b774-f18b2e5ab801",
   "metadata": {},
   "outputs": [
    {
     "data": {
      "text/plain": [
       "(2, 3)"
      ]
     },
     "execution_count": 10,
     "metadata": {},
     "output_type": "execute_result"
    }
   ],
   "source": [
    "b.shape # because it has two rows and three columns"
   ]
  },
  {
   "cell_type": "code",
   "execution_count": 11,
   "id": "2c6cba66-3a0e-4b65-af6f-3675e515c473",
   "metadata": {},
   "outputs": [
    {
     "data": {
      "text/plain": [
       "dtype('int64')"
      ]
     },
     "execution_count": 11,
     "metadata": {},
     "output_type": "execute_result"
    }
   ],
   "source": [
    "# Get Type\n",
    "a.dtype"
   ]
  },
  {
   "cell_type": "code",
   "execution_count": 12,
   "id": "dd107fea-dfe6-47ee-b865-bea6a7f1f7f8",
   "metadata": {},
   "outputs": [
    {
     "data": {
      "text/plain": [
       "dtype('float64')"
      ]
     },
     "execution_count": 12,
     "metadata": {},
     "output_type": "execute_result"
    }
   ],
   "source": [
    "b.dtype"
   ]
  },
  {
   "cell_type": "code",
   "execution_count": 14,
   "id": "4302a457-3cdc-45af-af3e-7b33aeb51b49",
   "metadata": {},
   "outputs": [
    {
     "data": {
      "text/plain": [
       "8"
      ]
     },
     "execution_count": 14,
     "metadata": {},
     "output_type": "execute_result"
    }
   ],
   "source": [
    "# Get Size\n",
    "a.itemsize"
   ]
  },
  {
   "cell_type": "code",
   "execution_count": 15,
   "id": "549aa6b9-47ef-4741-b3bc-936e435f8290",
   "metadata": {},
   "outputs": [
    {
     "data": {
      "text/plain": [
       "8"
      ]
     },
     "execution_count": 15,
     "metadata": {},
     "output_type": "execute_result"
    }
   ],
   "source": [
    "b.itemsize"
   ]
  },
  {
   "cell_type": "code",
   "execution_count": 16,
   "id": "ca924633-410a-4a60-8baf-f387c8fd51ea",
   "metadata": {},
   "outputs": [
    {
     "data": {
      "text/plain": [
       "24"
      ]
     },
     "execution_count": 16,
     "metadata": {},
     "output_type": "execute_result"
    }
   ],
   "source": [
    "# Get total size\n",
    "a.nbytes"
   ]
  },
  {
   "cell_type": "code",
   "execution_count": 17,
   "id": "afdb5230-ef2d-424b-bc31-ab8b9120b333",
   "metadata": {},
   "outputs": [
    {
     "data": {
      "text/plain": [
       "3"
      ]
     },
     "execution_count": 17,
     "metadata": {},
     "output_type": "execute_result"
    }
   ],
   "source": [
    "# Get number of elements\n",
    "a.size"
   ]
  },
  {
   "cell_type": "markdown",
   "id": "a15deb46-866b-4353-a6d9-0dd06cdfe70d",
   "metadata": {},
   "source": [
    "# Accessing/Changing specific elements, rows, columns, etc"
   ]
  },
  {
   "cell_type": "code",
   "execution_count": 19,
   "id": "2713cb4a-0e52-4844-9129-49ab061eeb1c",
   "metadata": {},
   "outputs": [
    {
     "name": "stdout",
     "output_type": "stream",
     "text": [
      "[[ 1  2  3  4  5  6  7]\n",
      " [ 8  9 10 11 12 13 14]]\n"
     ]
    }
   ],
   "source": [
    "a = np.array([[1,2,3,4,5,6,7],[8,9,10,11,12,13,14]])\n",
    "print(a)"
   ]
  },
  {
   "cell_type": "code",
   "execution_count": 20,
   "id": "d429294b-ff78-47c9-a222-47397b9f624f",
   "metadata": {},
   "outputs": [
    {
     "data": {
      "text/plain": [
       "(2, 7)"
      ]
     },
     "execution_count": 20,
     "metadata": {},
     "output_type": "execute_result"
    }
   ],
   "source": [
    "a.shape"
   ]
  },
  {
   "cell_type": "code",
   "execution_count": 25,
   "id": "fd904dbb-e8fb-44cf-add3-90d41b8a9ebd",
   "metadata": {},
   "outputs": [
    {
     "name": "stdout",
     "output_type": "stream",
     "text": [
      "10\n"
     ]
    }
   ],
   "source": [
    "# Get a specific element [row,column]\n",
    "print(a[1,2])"
   ]
  },
  {
   "cell_type": "code",
   "execution_count": 29,
   "id": "ff9f90c8-65cd-4ed8-ab59-39c5349c1969",
   "metadata": {},
   "outputs": [
    {
     "name": "stdout",
     "output_type": "stream",
     "text": [
      "[1 2 3 4 5 6 7]\n"
     ]
    }
   ],
   "source": [
    "# Get a specific row\n",
    "print(a[0,:])"
   ]
  },
  {
   "cell_type": "code",
   "execution_count": 32,
   "id": "c24118cf-6563-47d4-a77f-3dc59ee2416e",
   "metadata": {},
   "outputs": [
    {
     "name": "stdout",
     "output_type": "stream",
     "text": [
      "[ 3 10]\n"
     ]
    }
   ],
   "source": [
    "# Get a specific column\n",
    "print(a[:,2])"
   ]
  },
  {
   "cell_type": "code",
   "execution_count": 39,
   "id": "c7fda578-325c-4e5f-82aa-e1d597f0805d",
   "metadata": {},
   "outputs": [
    {
     "data": {
      "text/plain": [
       "array([2, 4, 6])"
      ]
     },
     "execution_count": 39,
     "metadata": {},
     "output_type": "execute_result"
    }
   ],
   "source": [
    "# Getting a little more fancy [startindex:endindex:stepsize]\n",
    "a[0,1:6:2]"
   ]
  },
  {
   "cell_type": "code",
   "execution_count": 40,
   "id": "f747256b-91e9-4a03-a843-ba652e226c20",
   "metadata": {},
   "outputs": [],
   "source": [
    "a[1,5] = 20"
   ]
  },
  {
   "cell_type": "code",
   "execution_count": 41,
   "id": "5083ec2c-615b-46df-b4c5-e22721115d2f",
   "metadata": {},
   "outputs": [
    {
     "data": {
      "text/plain": [
       "array([[ 1,  2,  3,  4,  5,  6,  7],\n",
       "       [ 8,  9, 10, 11, 12, 20, 14]])"
      ]
     },
     "execution_count": 41,
     "metadata": {},
     "output_type": "execute_result"
    }
   ],
   "source": [
    "a"
   ]
  },
  {
   "cell_type": "code",
   "execution_count": 44,
   "id": "41c821e5-840c-496c-bb56-f81f5d8074e4",
   "metadata": {},
   "outputs": [],
   "source": [
    "a[:,2] = 5"
   ]
  },
  {
   "cell_type": "code",
   "execution_count": 45,
   "id": "b02e207e-c705-4d48-ba60-fde94f07ccea",
   "metadata": {},
   "outputs": [
    {
     "data": {
      "text/plain": [
       "array([[ 1,  2,  5,  4,  5,  6,  7],\n",
       "       [ 8,  9,  5, 11, 12, 20, 14]])"
      ]
     },
     "execution_count": 45,
     "metadata": {},
     "output_type": "execute_result"
    }
   ],
   "source": [
    "a"
   ]
  },
  {
   "cell_type": "markdown",
   "id": "c44bfd43-a463-4cf9-9933-a5024cedd2c5",
   "metadata": {},
   "source": [
    "# 3-D EXAMPLE"
   ]
  },
  {
   "cell_type": "code",
   "execution_count": 51,
   "id": "7acfbb72-2a50-411a-8dcf-a03678fdf8cf",
   "metadata": {},
   "outputs": [
    {
     "name": "stdout",
     "output_type": "stream",
     "text": [
      "[[[1 2]\n",
      "  [3 4]]\n",
      "\n",
      " [[5 6]\n",
      "  [7 8]]]\n"
     ]
    }
   ],
   "source": [
    "b = np.array([[[1,2],[3,4]],[[5,6],[7,8]]])\n",
    "print(b)"
   ]
  },
  {
   "cell_type": "code",
   "execution_count": 53,
   "id": "a8a177a4-4d36-48e4-bd9b-13c641cf13f5",
   "metadata": {},
   "outputs": [
    {
     "name": "stdout",
     "output_type": "stream",
     "text": [
      "6\n"
     ]
    }
   ],
   "source": [
    "# Get specific element \n",
    "print(b[1,0,1])"
   ]
  },
  {
   "cell_type": "code",
   "execution_count": 54,
   "id": "cfc48c57-be72-4b29-9e05-390337fa83ca",
   "metadata": {},
   "outputs": [
    {
     "name": "stdout",
     "output_type": "stream",
     "text": [
      "4\n"
     ]
    }
   ],
   "source": [
    "print(b[0,1,1])"
   ]
  },
  {
   "cell_type": "code",
   "execution_count": 56,
   "id": "c30fd05e-cb88-4fad-ad2d-ea845ca76c28",
   "metadata": {},
   "outputs": [
    {
     "name": "stdout",
     "output_type": "stream",
     "text": [
      "[[3 4]\n",
      " [7 8]]\n"
     ]
    }
   ],
   "source": [
    "print(b[:,1,:])"
   ]
  },
  {
   "cell_type": "code",
   "execution_count": 57,
   "id": "b50cb5cc-4627-46f8-8e0b-a4e58f45998a",
   "metadata": {},
   "outputs": [
    {
     "name": "stdout",
     "output_type": "stream",
     "text": [
      "[[1 2]\n",
      " [5 6]]\n"
     ]
    }
   ],
   "source": [
    "print(b[:,0,:])"
   ]
  },
  {
   "cell_type": "code",
   "execution_count": 59,
   "id": "f72ee45c-cc05-4c49-8832-09173f8eae44",
   "metadata": {},
   "outputs": [
    {
     "name": "stdout",
     "output_type": "stream",
     "text": [
      "[1 5]\n"
     ]
    }
   ],
   "source": [
    "print(b[:,0,0])"
   ]
  },
  {
   "cell_type": "code",
   "execution_count": 64,
   "id": "fbe64f9b-16d5-4ed3-8bb5-b001144f80b3",
   "metadata": {},
   "outputs": [
    {
     "name": "stdout",
     "output_type": "stream",
     "text": [
      "[[[1 2]\n",
      "  [9 9]]\n",
      "\n",
      " [[5 6]\n",
      "  [8 8]]]\n"
     ]
    }
   ],
   "source": [
    "b[:,1,:] = [[9,9],[8,8]]\n",
    "print(b)"
   ]
  },
  {
   "cell_type": "markdown",
   "id": "472ba5fb-18a6-46d9-917f-f348f4674406",
   "metadata": {},
   "source": [
    "# Initializing Different Types of Arrays"
   ]
  },
  {
   "cell_type": "code",
   "execution_count": 66,
   "id": "9223ddc5-d2c3-42d5-a067-bb4abbb06502",
   "metadata": {},
   "outputs": [
    {
     "data": {
      "text/plain": [
       "array([[0., 0., 0.],\n",
       "       [0., 0., 0.]])"
      ]
     },
     "execution_count": 66,
     "metadata": {},
     "output_type": "execute_result"
    }
   ],
   "source": [
    "# All 0s matrix\n",
    "np.zeros((2,3))"
   ]
  },
  {
   "cell_type": "code",
   "execution_count": 70,
   "id": "6318fe1f-c65a-4c91-867a-fdbd487a1840",
   "metadata": {},
   "outputs": [
    {
     "data": {
      "text/plain": [
       "array([[1, 1, 1, 1, 1, 1, 1, 1],\n",
       "       [1, 1, 1, 1, 1, 1, 1, 1],\n",
       "       [1, 1, 1, 1, 1, 1, 1, 1]])"
      ]
     },
     "execution_count": 70,
     "metadata": {},
     "output_type": "execute_result"
    }
   ],
   "source": [
    "# All 1s matrix\n",
    "np.ones((3,8),dtype='int')"
   ]
  },
  {
   "cell_type": "code",
   "execution_count": 73,
   "id": "f1e6da71-7352-45a3-bb7d-b8e8eed92f10",
   "metadata": {},
   "outputs": [
    {
     "data": {
      "text/plain": [
       "array([[99., 99., 99., 99.],\n",
       "       [99., 99., 99., 99.],\n",
       "       [99., 99., 99., 99.],\n",
       "       [99., 99., 99., 99.]], dtype=float32)"
      ]
     },
     "execution_count": 73,
     "metadata": {},
     "output_type": "execute_result"
    }
   ],
   "source": [
    "# Any other number np.full((shape),number)\n",
    "np.full((4,4),99,dtype='float32')"
   ]
  },
  {
   "cell_type": "code",
   "execution_count": 80,
   "id": "19710bbc-f832-47d9-bd8c-f7499793b512",
   "metadata": {},
   "outputs": [
    {
     "data": {
      "text/plain": [
       "array([[3, 3, 3, 3, 3, 3, 3],\n",
       "       [3, 3, 3, 3, 3, 3, 3]])"
      ]
     },
     "execution_count": 80,
     "metadata": {},
     "output_type": "execute_result"
    }
   ],
   "source": [
    "# Any other number (full_like)\n",
    "np.full_like(a,3)"
   ]
  },
  {
   "cell_type": "code",
   "execution_count": 83,
   "id": "cdbdee2a-311c-4c18-bd76-f4d03a50cf04",
   "metadata": {},
   "outputs": [
    {
     "data": {
      "text/plain": [
       "array([[0.11929663, 0.74446419],\n",
       "       [0.71006001, 0.03321281]])"
      ]
     },
     "execution_count": 83,
     "metadata": {},
     "output_type": "execute_result"
    }
   ],
   "source": [
    "# Random decimal numbers\n",
    "np.random.rand(2,2)"
   ]
  },
  {
   "cell_type": "code",
   "execution_count": 91,
   "id": "4952c716-6564-440d-a729-fd54ae750ef8",
   "metadata": {},
   "outputs": [
    {
     "data": {
      "text/plain": [
       "array([[0.36712038, 0.63211983, 0.41828581, 0.38505635, 0.19533625,\n",
       "        0.33782598, 0.96058552],\n",
       "       [0.11796017, 0.83720332, 0.98375944, 0.99757106, 0.62634586,\n",
       "        0.42133505, 0.59691908]])"
      ]
     },
     "execution_count": 91,
     "metadata": {},
     "output_type": "execute_result"
    }
   ],
   "source": [
    "# Random decimal numbers\n",
    "np.random.random_sample(a.shape)"
   ]
  },
  {
   "cell_type": "code",
   "execution_count": 149,
   "id": "1c881f4f-fab3-47a9-a0ee-d266e0e26064",
   "metadata": {},
   "outputs": [
    {
     "data": {
      "text/plain": [
       "array([[-5, -3,  2],\n",
       "       [ 3, -5,  2],\n",
       "       [-3,  0,  1]], dtype=int32)"
      ]
     },
     "execution_count": 149,
     "metadata": {},
     "output_type": "execute_result"
    }
   ],
   "source": [
    "# Random integer numbers\n",
    "np.random.randint(-5,6,size=(3,3))"
   ]
  },
  {
   "cell_type": "code",
   "execution_count": 154,
   "id": "12faf6d1-213c-4618-9dfc-65ac09c20306",
   "metadata": {},
   "outputs": [
    {
     "data": {
      "text/plain": [
       "array([[1, 0],\n",
       "       [0, 1]])"
      ]
     },
     "execution_count": 154,
     "metadata": {},
     "output_type": "execute_result"
    }
   ],
   "source": [
    "# The identity matrix\n",
    "np.identity(2,dtype='int64')"
   ]
  },
  {
   "cell_type": "code",
   "execution_count": 165,
   "id": "a38d2945-8f79-430b-b2b1-e2ca7029df33",
   "metadata": {},
   "outputs": [
    {
     "name": "stdout",
     "output_type": "stream",
     "text": [
      "[[1 2 3]\n",
      " [1 2 3]\n",
      " [1 2 3]]\n"
     ]
    }
   ],
   "source": [
    "# Repeat an array\n",
    "arr = np.array([[1,2,3]])\n",
    "r1 = np.repeat(arr,3,axis=0)\n",
    "print(r1)"
   ]
  },
  {
   "cell_type": "code",
   "execution_count": 180,
   "id": "31e946ea-f75e-403b-aa51-b00fe3e0c0cd",
   "metadata": {},
   "outputs": [
    {
     "name": "stdout",
     "output_type": "stream",
     "text": [
      "[[1. 1. 1. 1. 1.]\n",
      " [1. 0. 0. 0. 1.]\n",
      " [1. 0. 9. 0. 1.]\n",
      " [1. 0. 0. 0. 1.]\n",
      " [1. 1. 1. 1. 1.]]\n"
     ]
    }
   ],
   "source": [
    "output = np.ones((5,5))\n",
    "#print(output)\n",
    "\n",
    "z = np.zeros((3,3),dtype='int')\n",
    "z[1,1] = 9\n",
    "#print(z)\n",
    "output[1:4,1:4] = z\n",
    "print(output)"
   ]
  },
  {
   "cell_type": "code",
   "execution_count": 8,
   "id": "b515bb64-a4e8-4814-bae7-102a044ef837",
   "metadata": {},
   "outputs": [
    {
     "name": "stdout",
     "output_type": "stream",
     "text": [
      "[1 2 3]\n",
      "[100   2   3]\n"
     ]
    }
   ],
   "source": [
    "a = np.array([1,2,3])\n",
    "#print(a)\n",
    "b = a.copy()\n",
    "#print(b)\n",
    "b[0] = 100\n",
    "print(a)\n",
    "print(b)"
   ]
  },
  {
   "cell_type": "markdown",
   "id": "1d74d760-58cc-4698-a478-074cadd92dcd",
   "metadata": {},
   "source": [
    "# Mathematics"
   ]
  },
  {
   "cell_type": "code",
   "execution_count": 9,
   "id": "e2fc94af-5706-49d6-82f2-395a4655d392",
   "metadata": {},
   "outputs": [
    {
     "name": "stdout",
     "output_type": "stream",
     "text": [
      "[1 2 3 4]\n"
     ]
    }
   ],
   "source": [
    "a = np.array([1,2,3,4])\n",
    "print(a)"
   ]
  },
  {
   "cell_type": "code",
   "execution_count": 10,
   "id": "d55b68a3-0304-4f0a-9b7e-76e3fc7c8ed3",
   "metadata": {},
   "outputs": [
    {
     "data": {
      "text/plain": [
       "array([3, 4, 5, 6])"
      ]
     },
     "execution_count": 10,
     "metadata": {},
     "output_type": "execute_result"
    }
   ],
   "source": [
    "a + 2"
   ]
  },
  {
   "cell_type": "code",
   "execution_count": 11,
   "id": "81f80997-71ac-499a-996b-dc2dd4772f75",
   "metadata": {},
   "outputs": [
    {
     "data": {
      "text/plain": [
       "array([-1,  0,  1,  2])"
      ]
     },
     "execution_count": 11,
     "metadata": {},
     "output_type": "execute_result"
    }
   ],
   "source": [
    "a - 2"
   ]
  },
  {
   "cell_type": "code",
   "execution_count": 12,
   "id": "d894feaf-32b7-472c-82f2-973c6b35a81c",
   "metadata": {},
   "outputs": [
    {
     "data": {
      "text/plain": [
       "array([2, 4, 6, 8])"
      ]
     },
     "execution_count": 12,
     "metadata": {},
     "output_type": "execute_result"
    }
   ],
   "source": [
    "a * 2"
   ]
  },
  {
   "cell_type": "code",
   "execution_count": 13,
   "id": "594de9c5-3bb0-4646-b84a-dff441c82aa1",
   "metadata": {},
   "outputs": [
    {
     "data": {
      "text/plain": [
       "array([0.5, 1. , 1.5, 2. ])"
      ]
     },
     "execution_count": 13,
     "metadata": {},
     "output_type": "execute_result"
    }
   ],
   "source": [
    "a / 2"
   ]
  },
  {
   "cell_type": "code",
   "execution_count": 15,
   "id": "bf796fc6-be08-4b04-a9c1-3a14cb42d1a4",
   "metadata": {},
   "outputs": [
    {
     "name": "stdout",
     "output_type": "stream",
     "text": [
      "[5 6 7 8]\n"
     ]
    }
   ],
   "source": [
    "a = a + 2\n",
    "print(a)"
   ]
  },
  {
   "cell_type": "code",
   "execution_count": 16,
   "id": "5d2cff73-9db8-4530-b829-d3c0c51ae582",
   "metadata": {},
   "outputs": [
    {
     "data": {
      "text/plain": [
       "array([25, 36, 49, 64])"
      ]
     },
     "execution_count": 16,
     "metadata": {},
     "output_type": "execute_result"
    }
   ],
   "source": [
    "a ** 2"
   ]
  },
  {
   "cell_type": "code",
   "execution_count": 18,
   "id": "31d96791-2b8b-4957-ada2-a2d9df82ebc2",
   "metadata": {},
   "outputs": [
    {
     "data": {
      "text/plain": [
       "array([-0.95892427, -0.2794155 ,  0.6569866 ,  0.98935825])"
      ]
     },
     "execution_count": 18,
     "metadata": {},
     "output_type": "execute_result"
    }
   ],
   "source": [
    "# Take the sine\n",
    "np.sin(a)"
   ]
  },
  {
   "cell_type": "code",
   "execution_count": 19,
   "id": "949a2d5d-885d-4d4b-93a9-d651533fe4b3",
   "metadata": {},
   "outputs": [
    {
     "data": {
      "text/plain": [
       "array([ 0.28366219,  0.96017029,  0.75390225, -0.14550003])"
      ]
     },
     "execution_count": 19,
     "metadata": {},
     "output_type": "execute_result"
    }
   ],
   "source": [
    "# Take the cosine\n",
    "np.cos(a)"
   ]
  },
  {
   "cell_type": "markdown",
   "id": "c07fd482-503e-48bf-ad20-086eca25da61",
   "metadata": {},
   "source": [
    "#### Linear Algebra"
   ]
  },
  {
   "cell_type": "code",
   "execution_count": 26,
   "id": "14098ae1-f6fe-42d9-b0a6-adfd5a193b8d",
   "metadata": {},
   "outputs": [
    {
     "name": "stdout",
     "output_type": "stream",
     "text": [
      "[[1. 1. 1.]\n",
      " [1. 1. 1.]]\n",
      "[[2 2]\n",
      " [2 2]\n",
      " [2 2]]\n"
     ]
    },
    {
     "data": {
      "text/plain": [
       "array([[6., 6.],\n",
       "       [6., 6.]])"
      ]
     },
     "execution_count": 26,
     "metadata": {},
     "output_type": "execute_result"
    }
   ],
   "source": [
    "a = np.ones((2,3))\n",
    "print(a)\n",
    "b = np.full((3,2),2)\n",
    "print(b)\n",
    "\n",
    "np.matmul(a,b)"
   ]
  },
  {
   "cell_type": "code",
   "execution_count": 29,
   "id": "ae7ef95c-e847-48e3-8991-c1444d1ca4d1",
   "metadata": {},
   "outputs": [
    {
     "data": {
      "text/plain": [
       "np.float64(1.0)"
      ]
     },
     "execution_count": 29,
     "metadata": {},
     "output_type": "execute_result"
    }
   ],
   "source": [
    "# Find the determinant\n",
    "c = np.identity(3)\n",
    "np.linalg.det(c)"
   ]
  },
  {
   "cell_type": "code",
   "execution_count": 33,
   "id": "c7401fbc-c25f-4d30-a5ab-64ed0708f0e2",
   "metadata": {},
   "outputs": [
    {
     "name": "stdout",
     "output_type": "stream",
     "text": [
      "2.1.0\n"
     ]
    }
   ],
   "source": [
    "# Version of NumPy\n",
    "print(np.__version__)"
   ]
  },
  {
   "cell_type": "markdown",
   "id": "6d0029a5-9f31-4b0c-9bbe-0feabed86742",
   "metadata": {},
   "source": [
    "#### Statistics"
   ]
  },
  {
   "cell_type": "code",
   "execution_count": 4,
   "id": "6eeb69a0-d53b-48be-8e08-8f9434a8b70f",
   "metadata": {},
   "outputs": [
    {
     "data": {
      "text/plain": [
       "array([[1, 2, 3],\n",
       "       [4, 5, 6]])"
      ]
     },
     "execution_count": 4,
     "metadata": {},
     "output_type": "execute_result"
    }
   ],
   "source": [
    "stats = np.array([[1,2,3],[4,5,6]])\n",
    "stats"
   ]
  },
  {
   "cell_type": "code",
   "execution_count": 7,
   "id": "e4eabcb4-9dc2-47f0-aacc-4018e6cd2d3c",
   "metadata": {},
   "outputs": [
    {
     "data": {
      "text/plain": [
       "np.int64(1)"
      ]
     },
     "execution_count": 7,
     "metadata": {},
     "output_type": "execute_result"
    }
   ],
   "source": [
    "np.min(stats)"
   ]
  },
  {
   "cell_type": "code",
   "execution_count": 8,
   "id": "f0ffe801-1ff9-4dc3-a209-291a501a1377",
   "metadata": {},
   "outputs": [
    {
     "data": {
      "text/plain": [
       "np.int64(6)"
      ]
     },
     "execution_count": 8,
     "metadata": {},
     "output_type": "execute_result"
    }
   ],
   "source": [
    "np.max(stats)"
   ]
  },
  {
   "cell_type": "code",
   "execution_count": 9,
   "id": "72d0b3f2-506a-436c-86c6-1d9219af368b",
   "metadata": {},
   "outputs": [
    {
     "data": {
      "text/plain": [
       "np.float64(3.5)"
      ]
     },
     "execution_count": 9,
     "metadata": {},
     "output_type": "execute_result"
    }
   ],
   "source": [
    "np.mean(stats)"
   ]
  },
  {
   "cell_type": "code",
   "execution_count": 10,
   "id": "f15e4039-9a49-4285-9f6a-93bf8ab3f37f",
   "metadata": {},
   "outputs": [
    {
     "data": {
      "text/plain": [
       "np.float64(3.5)"
      ]
     },
     "execution_count": 10,
     "metadata": {},
     "output_type": "execute_result"
    }
   ],
   "source": [
    "np.median(stats)"
   ]
  },
  {
   "cell_type": "code",
   "execution_count": 11,
   "id": "53457aed-48c2-4146-ac38-2154eef7e99e",
   "metadata": {},
   "outputs": [
    {
     "data": {
      "text/plain": [
       "np.float64(1.707825127659933)"
      ]
     },
     "execution_count": 11,
     "metadata": {},
     "output_type": "execute_result"
    }
   ],
   "source": [
    "np.std(stats)"
   ]
  },
  {
   "cell_type": "code",
   "execution_count": 12,
   "id": "859a3771-5a71-4601-9b74-6c1c417a17d5",
   "metadata": {},
   "outputs": [
    {
     "data": {
      "text/plain": [
       "np.int64(21)"
      ]
     },
     "execution_count": 12,
     "metadata": {},
     "output_type": "execute_result"
    }
   ],
   "source": [
    "np.sum(stats)"
   ]
  },
  {
   "cell_type": "code",
   "execution_count": null,
   "id": "81b3c8a8-cd03-4040-9687-af819fbcc748",
   "metadata": {},
   "outputs": [],
   "source": []
  }
 ],
 "metadata": {
  "kernelspec": {
   "display_name": "Python 3 (ipykernel)",
   "language": "python",
   "name": "python3"
  },
  "language_info": {
   "codemirror_mode": {
    "name": "ipython",
    "version": 3
   },
   "file_extension": ".py",
   "mimetype": "text/x-python",
   "name": "python",
   "nbconvert_exporter": "python",
   "pygments_lexer": "ipython3",
   "version": "3.12.5"
  }
 },
 "nbformat": 4,
 "nbformat_minor": 5
}
