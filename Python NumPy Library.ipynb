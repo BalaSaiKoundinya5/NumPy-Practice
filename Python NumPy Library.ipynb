{
 "cells": [
  {
   "cell_type": "markdown",
   "id": "d63916ec-aee9-4dcf-a83b-b9a115753a1d",
   "metadata": {},
   "source": [
    "# What is NumPy?\n",
    "- It is multi-dimensional array libray.\n",
    "- "
   ]
  },
  {
   "cell_type": "markdown",
   "id": "62e1c710-2c11-452c-b1f6-b857230ca739",
   "metadata": {},
   "source": [
    "# How are lists different from NumPy?\n",
    "- Lists are slow\n",
    "- NumPy is very fast"
   ]
  },
  {
   "cell_type": "markdown",
   "id": "e4cd4a44-55b5-4f98-bd15-7c7b3bc9f68c",
   "metadata": {},
   "source": [
    "# Why NumPy is faster\n",
    "- Faster to read less bytes of memory .\n",
    "- No type checking when iterating through objects.\n",
    "- It has fixed type\n",
    "- It uses contiguous memory"
   ]
  },
  {
   "cell_type": "markdown",
   "id": "be2e5588-3572-46c4-ac84-554674ec126b",
   "metadata": {},
   "source": [
    "# Applications of NumPy Library\n",
    "1. Matlab Replacement\n",
    "2. Plotting\n",
    "3. Machine Learning\n",
    "4. "
   ]
  },
  {
   "cell_type": "code",
   "execution_count": null,
   "id": "2086710b-1321-41c7-b5be-aabee30127c2",
   "metadata": {},
   "outputs": [],
   "source": []
  }
 ],
 "metadata": {
  "kernelspec": {
   "display_name": "Python 3 (ipykernel)",
   "language": "python",
   "name": "python3"
  },
  "language_info": {
   "codemirror_mode": {
    "name": "ipython",
    "version": 3
   },
   "file_extension": ".py",
   "mimetype": "text/x-python",
   "name": "python",
   "nbconvert_exporter": "python",
   "pygments_lexer": "ipython3",
   "version": "3.12.5"
  }
 },
 "nbformat": 4,
 "nbformat_minor": 5
}
