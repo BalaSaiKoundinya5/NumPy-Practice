{
 "cells": [
  {
   "cell_type": "markdown",
   "id": "d63916ec-aee9-4dcf-a83b-b9a115753a1d",
   "metadata": {},
   "source": [
    "# What is NumPy?\n",
    "- It is multi-dimensional array libray."
   ]
  },
  {
   "cell_type": "markdown",
   "id": "62e1c710-2c11-452c-b1f6-b857230ca739",
   "metadata": {},
   "source": [
    "# How are lists different from NumPy?\n",
    "- Lists are slow\n",
    "- NumPy is very fast"
   ]
  },
  {
   "cell_type": "markdown",
   "id": "e4cd4a44-55b5-4f98-bd15-7c7b3bc9f68c",
   "metadata": {},
   "source": [
    "# Why NumPy is faster\n",
    "- Faster to read less bytes of memory .\n",
    "- No type checking when iterating through objects.\n",
    "- It has fixed type\n",
    "- It uses contiguous memory"
   ]
  },
  {
   "cell_type": "markdown",
   "id": "be2e5588-3572-46c4-ac84-554674ec126b",
   "metadata": {},
   "source": [
    "# Applications of NumPy Library\n",
    "1. Matlab Replacement\n",
    "2. Plotting\n",
    "3. Machine Learning"
   ]
  },
  {
   "cell_type": "code",
   "execution_count": 1,
   "id": "2086710b-1321-41c7-b5be-aabee30127c2",
   "metadata": {},
   "outputs": [],
   "source": [
    "import numpy as np"
   ]
  },
  {
   "cell_type": "code",
   "execution_count": 3,
   "id": "9c7edaa1-e645-4adb-8f31-70ee40aa62e6",
   "metadata": {},
   "outputs": [
    {
     "name": "stdout",
     "output_type": "stream",
     "text": [
      "[1 2 3]\n"
     ]
    }
   ],
   "source": [
    "a = np.array([1,2,3])\n",
    "print(a)"
   ]
  },
  {
   "cell_type": "code",
   "execution_count": 4,
   "id": "e794ea7d-be4a-43d9-997b-b3cda91fae3f",
   "metadata": {},
   "outputs": [
    {
     "name": "stdout",
     "output_type": "stream",
     "text": [
      "[[9. 8. 7.]\n",
      " [6. 5. 4.]]\n"
     ]
    }
   ],
   "source": [
    "b = np.array([[9.0,8.0,7.0],[6.0,5.0,4.0]])\n",
    "print(b)"
   ]
  },
  {
   "cell_type": "code",
   "execution_count": 6,
   "id": "002f68d7-0010-4079-b88d-7a692fe090d9",
   "metadata": {},
   "outputs": [
    {
     "data": {
      "text/plain": [
       "1"
      ]
     },
     "execution_count": 6,
     "metadata": {},
     "output_type": "execute_result"
    }
   ],
   "source": [
    "# Get Dimensions of your array\n",
    "a.ndim"
   ]
  },
  {
   "cell_type": "code",
   "execution_count": 7,
   "id": "504e4c84-6bf6-409c-b7de-3b867fa0facf",
   "metadata": {},
   "outputs": [
    {
     "data": {
      "text/plain": [
       "2"
      ]
     },
     "execution_count": 7,
     "metadata": {},
     "output_type": "execute_result"
    }
   ],
   "source": [
    "b.ndim"
   ]
  },
  {
   "cell_type": "code",
   "execution_count": null,
   "id": "9d0f9c4e-3b11-46a1-b9dd-80c4cf6c026b",
   "metadata": {},
   "outputs": [],
   "source": []
  }
 ],
 "metadata": {
  "kernelspec": {
   "display_name": "Python 3 (ipykernel)",
   "language": "python",
   "name": "python3"
  },
  "language_info": {
   "codemirror_mode": {
    "name": "ipython",
    "version": 3
   },
   "file_extension": ".py",
   "mimetype": "text/x-python",
   "name": "python",
   "nbconvert_exporter": "python",
   "pygments_lexer": "ipython3",
   "version": "3.12.5"
  }
 },
 "nbformat": 4,
 "nbformat_minor": 5
}
